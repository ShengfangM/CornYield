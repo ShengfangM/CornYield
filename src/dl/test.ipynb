{
 "cells": [
  {
   "cell_type": "code",
   "execution_count": null,
   "metadata": {},
   "outputs": [],
   "source": [
    "import os\n",
    "# Specify the new directory path\n",
    "parent_directory = 'D:/Projects/CornYield/src'\n",
    "\n",
    "# Change the current directory\n",
    "os.chdir(parent_directory) \n",
    "# %pwd\n"
   ]
  },
  {
   "cell_type": "code",
   "execution_count": null,
   "metadata": {},
   "outputs": [],
   "source": [
    "import numpy as np\n",
    "from sklearn.model_selection import train_test_split\n",
    "\n",
    "import torch\n",
    "import torch.optim as optim\n",
    "\n",
    "from dataset import select_data_and_yield_list\n",
    "from ml.ml_predict import plot_result_separate\n",
    "from dl.dl_dataset import CornDataset\n",
    "from dl.model import ResNetRegression, ResNetFeatures, NNRegression\n",
    "from dl.train import train_with_cross_validation,  validate_dual_models\n",
    "from dl.dl_prediction import data_prepare"
   ]
  },
  {
   "cell_type": "code",
   "execution_count": null,
   "metadata": {},
   "outputs": [],
   "source": [
    "yield_file = 'D:/Corn_Yield/BL2022_Yld.csv'\n",
    "\n",
    "img_path = 'D:/Corn_Yield/UAV_Data_Extracted_filled/LIRF20220705_DOY186_extracted_filled'\n",
    "out_path = '../output/DOY186/'\n",
    "\n",
    "is_save_model = True"
   ]
  },
  {
   "cell_type": "code",
   "execution_count": null,
   "metadata": {},
   "outputs": [],
   "source": [
    "    \n",
    "selection = ['Pioneer'] # \n",
    "# selection = 'Pioneer Deficit' \n",
    "# selection = 'Pioneer Full'\n",
    "\n",
    "# key_word_list = ['Ref_filled.tif', 'RGB_filled.tif']\n",
    "key_word_list = ['Ref_filled.tif']\n",
    "suffix_list_list = [[], ['LWIR_filled.tif']]\n",
    "\n",
    "# suffix = ['base', 'lwir']\n",
    "# suffix_list = ['LWIR_filled.tif']\n",
    "# VI_list = ['ndvi', 'ndre', 'gndvi', 'evi']\n",
    "VI_list = ['evi']\n",
    "for keyword in key_word_list:\n",
    "    pioneer_yield_list, train_val_dataset, test_dataset, irrigate_type_list, test_indices= data_prepare(yield_file, img_path, out_path, keyword, selection)\n",
    "    # yield_file = 'D:/Corn_Yield/BL2022_Yld.csv'\n",
    "    doy_name = img_path[-23:-17]\n",
    "\n",
    "            \n",
    "    in_channel = 5\n",
    "    num_epochs = 200\n",
    "    batch_size = 32\n",
    "\n",
    "    # Initialize an empty list to store fold-wise performance\n",
    "    fold_accuracies = []\n",
    "\n",
    "    # Initialize a new model for each fold\n",
    "    # model = ResNetRegression(in_channel)\n",
    "    model = ResNetFeatures(in_channel, 512)\n",
    "    model2 = NNRegression(512)\n",
    "    # model = EncoderCNN(in_channel, 1)\n",
    "\n",
    "    device = torch.device(\"cuda\" if torch.cuda.is_available() else \"cpu\")\n",
    "    print(device)\n",
    "    model.to(device)\n",
    "    model2.to(device)\n",
    "\n",
    "\n",
    "    criterion = torch.nn.MSELoss()  # Mean Squared Error loss function\n",
    "    # optimizer = optim.Adam(list(conv.parameters()) + list(deconv.parameters()), lr=0.001)  # Adam optimizer\n",
    "    optimizer = optim.Adam(model.parameters(), lr=0.001)  # Adam optimizer\n",
    "\n",
    "    # optimizer.zero_grad()\n",
    "    model = train_with_cross_validation(model, train_val_dataset, batch_size, num_epochs, optimizer, criterion, dual_model=True, model2=model2)\n",
    "\n",
    "    if is_save_model:\n",
    "        model_name = \"path/model_\" + model.__class__.__name__+ doy_name +\"_Batch=\" +str(batch_size) + \"_state_dual.pth\"\n",
    "        torch.save(model.state_dict(), model_name)\n",
    "\n",
    "    test_accuracy, test_prediction = validate_dual_models(model, model2, test_dataset, criterion, batch_size = batch_size, is_return_output = True)\n",
    "\n",
    "    print(f'validation mse is {np.sqrt(np.mean(test_accuracy))}')\n",
    "\n",
    "\n",
    "    name_tag = doy_name\n",
    "    out_name = name_tag + ' ' + 'Pioneer' + ' ' \n",
    "    out_name = out_name + keyword[:-11] \n",
    "    out_name = out_name + ' CNN '\n",
    "\n",
    "    yield_data = np.array(pioneer_yield_list)\n",
    "    irrigate_data = np.array(irrigate_type_list)\n",
    "\n",
    "    test_truth = yield_data[test_indices]\n",
    "    plot_result_separate(np.array(test_truth), np.array(test_prediction), test_indices, irrigate_data, out_name)\n"
   ]
  },
  {
   "cell_type": "code",
   "execution_count": null,
   "metadata": {},
   "outputs": [],
   "source": [
    "model2 = ResNetRegression(5,1)\n",
    "print(model2)"
   ]
  },
  {
   "cell_type": "code",
   "execution_count": null,
   "metadata": {},
   "outputs": [],
   "source": []
  }
 ],
 "metadata": {
  "kernelspec": {
   "display_name": "pytorch",
   "language": "python",
   "name": "python3"
  },
  "language_info": {
   "codemirror_mode": {
    "name": "ipython",
    "version": 3
   },
   "file_extension": ".py",
   "mimetype": "text/x-python",
   "name": "python",
   "nbconvert_exporter": "python",
   "pygments_lexer": "ipython3",
   "version": "3.9.7"
  }
 },
 "nbformat": 4,
 "nbformat_minor": 2
}

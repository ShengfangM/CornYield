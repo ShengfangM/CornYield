{
 "cells": [
  {
   "cell_type": "code",
   "execution_count": 1,
   "metadata": {},
   "outputs": [],
   "source": [
    "import os\n",
    "# Specify the new directory path\n",
    "parent_directory = 'D:/Projects/CornYield/src'\n",
    "\n",
    "# Change the current directory\n",
    "os.chdir(parent_directory) \n",
    "# %pwd\n"
   ]
  },
  {
   "cell_type": "code",
   "execution_count": 2,
   "metadata": {},
   "outputs": [],
   "source": [
    "import numpy as np\n",
    "from sklearn.model_selection import train_test_split\n",
    "\n",
    "import torch\n",
    "import torch.optim as optim\n",
    "\n",
    "from dataset import select_data_and_yield_list\n",
    "from ml.ml_predict import plot_result_separate\n",
    "from dl.dl_dataset import CornDataset\n",
    "from dl.model import ResNetRegression, ResNetFeatures, NNRegression\n",
    "from dl.train import train_with_cross_validation,  validate_dual_models\n",
    "from dl.dl_prediction import data_prepare"
   ]
  },
  {
   "cell_type": "code",
   "execution_count": 3,
   "metadata": {},
   "outputs": [],
   "source": [
    "from dataset import get_filename_metadata\n",
    "from dl.dl_dataset import MixedDataset\n",
    "from dl.train import train_with_cross_validation, train, validate, data_transform"
   ]
  },
  {
   "cell_type": "code",
   "execution_count": 4,
   "metadata": {},
   "outputs": [],
   "source": [
    "yield_file = 'D:/Corn_Yield/BL2022_Yld.csv'\n",
    "\n",
    "img_path = 'D:/Corn_Yield/UAV_Data_Extracted_filled/LIRF20220705_DOY186_extracted_filled'\n",
    "out_path = '../output/DOY186/'\n",
    "\n",
    "is_save_model = True"
   ]
  },
  {
   "cell_type": "code",
   "execution_count": 5,
   "metadata": {},
   "outputs": [],
   "source": [
    "import random"
   ]
  },
  {
   "cell_type": "code",
   "execution_count": 23,
   "metadata": {},
   "outputs": [
    {
     "name": "stdout",
     "output_type": "stream",
     "text": [
      "True\n",
      "True\n",
      "True\n",
      "True\n",
      "True\n",
      "True\n",
      "True\n",
      "True\n",
      "True\n",
      "True\n",
      "True\n",
      "True\n",
      "True\n",
      "True\n",
      "True\n",
      "True\n",
      "True\n",
      "True\n",
      "True\n",
      "True\n",
      "True\n",
      "True\n",
      "True\n",
      "True\n",
      "True\n",
      "True\n",
      "True\n",
      "True\n",
      "True\n",
      "True\n",
      "True\n",
      "True\n",
      "True\n",
      "True\n",
      "True\n",
      "True\n",
      "True\n",
      "True\n",
      "True\n",
      "True\n",
      "True\n",
      "True\n",
      "True\n",
      "True\n",
      "True\n",
      "True\n",
      "True\n",
      "True\n",
      "True\n",
      "True\n",
      "True\n",
      "True\n",
      "True\n",
      "True\n",
      "True\n",
      "True\n"
     ]
    },
    {
     "ename": "IndexError",
     "evalue": "list index out of range",
     "output_type": "error",
     "traceback": [
      "\u001b[1;31m---------------------------------------------------------------------------\u001b[0m",
      "\u001b[1;31mIndexError\u001b[0m                                Traceback (most recent call last)",
      "\u001b[1;32m~\\AppData\\Local\\Temp\\ipykernel_21848\\1969774949.py\u001b[0m in \u001b[0;36m<module>\u001b[1;34m\u001b[0m\n\u001b[0;32m     16\u001b[0m         \u001b[1;31m# print(yield_pf.iloc[i, 1])\u001b[0m\u001b[1;33m\u001b[0m\u001b[1;33m\u001b[0m\u001b[0m\n\u001b[0;32m     17\u001b[0m         \u001b[1;31m# print(img_list[i][77:89])\u001b[0m\u001b[1;33m\u001b[0m\u001b[1;33m\u001b[0m\u001b[0m\n\u001b[1;32m---> 18\u001b[1;33m         \u001b[0mprint\u001b[0m\u001b[1;33m(\u001b[0m\u001b[0mimg_list\u001b[0m\u001b[1;33m[\u001b[0m\u001b[0mi\u001b[0m\u001b[1;33m]\u001b[0m\u001b[1;33m[\u001b[0m\u001b[1;36m77\u001b[0m\u001b[1;33m:\u001b[0m\u001b[1;36m89\u001b[0m\u001b[1;33m]\u001b[0m \u001b[1;33m==\u001b[0m \u001b[0myield_pf\u001b[0m\u001b[1;33m.\u001b[0m\u001b[0miloc\u001b[0m\u001b[1;33m[\u001b[0m\u001b[0mi\u001b[0m\u001b[1;33m,\u001b[0m \u001b[1;36m1\u001b[0m\u001b[1;33m]\u001b[0m\u001b[1;33m)\u001b[0m\u001b[1;33m\u001b[0m\u001b[1;33m\u001b[0m\u001b[0m\n\u001b[0m\u001b[0;32m     19\u001b[0m \u001b[1;33m\u001b[0m\u001b[0m\n\u001b[0;32m     20\u001b[0m     \u001b[0mprint\u001b[0m\u001b[1;33m(\u001b[0m\u001b[0mlen\u001b[0m\u001b[1;33m(\u001b[0m\u001b[0mimg_list\u001b[0m\u001b[1;33m)\u001b[0m\u001b[1;33m)\u001b[0m\u001b[1;33m\u001b[0m\u001b[1;33m\u001b[0m\u001b[0m\n",
      "\u001b[1;31mIndexError\u001b[0m: list index out of range"
     ]
    }
   ],
   "source": [
    "key_word_list = ['Ref_filled.tif']\n",
    "analyze_variety_id = 0\n",
    "for keyword in key_word_list:\n",
    "\n",
    "    img_list, yield_pf = get_filename_metadata(img_path, yield_file, keyword)\n",
    "\n",
    "    \n",
    "    indices = yield_pf.index[yield_pf['Variety_int'] == analyze_variety_id].tolist()\n",
    "    img_list = [img_list[i] for i in indices]\n",
    "    yield_pf = yield_pf[yield_pf['Variety_int'] == analyze_variety_id]\n",
    "    yield_pf = yield_pf.reset_index(drop=True)\n",
    "    yield_list = list(yield_pf['Yield_Bu_Ac'])\n",
    "    \n",
    "    print(len(img_list))\n",
    "    print(len(yield_pf))\n",
    "    \n",
    "    random_numbers = [random.randint(0, len(img_list)) for _ in range(100)]\n",
    "    for i in random_numbers:\n",
    "        # print(yield_pf.iloc[i, 1])\n",
    "        # print(img_list[i][77:89])\n",
    "        print(img_list[i][77:89] == yield_pf.iloc[i, 1])\n",
    "\n",
    " "
   ]
  },
  {
   "cell_type": "code",
   "execution_count": null,
   "metadata": {},
   "outputs": [],
   "source": [
    "    \n",
    "selection = ['Pioneer'] # \n",
    "# selection = 'Pioneer Deficit' \n",
    "# selection = 'Pioneer Full'\n",
    "\n",
    "# key_word_list = ['Ref_filled.tif', 'RGB_filled.tif']\n",
    "key_word_list = ['Ref_filled.tif']\n",
    "suffix_list_list = [[], ['LWIR_filled.tif']]\n",
    "\n",
    "# suffix = ['base', 'lwir']\n",
    "# suffix_list = ['LWIR_filled.tif']\n",
    "# VI_list = ['ndvi', 'ndre', 'gndvi', 'evi']\n",
    "VI_list = ['evi']\n",
    "for keyword in key_word_list:\n",
    "    pioneer_yield_list, train_val_dataset, test_dataset, irrigate_type_list, test_indices= data_prepare(yield_file, img_path, out_path, keyword, selection)\n",
    "    # yield_file = 'D:/Corn_Yield/BL2022_Yld.csv'\n",
    "    doy_name = img_path[-23:-17]\n",
    "\n",
    "            \n",
    "    in_channel = 5\n",
    "    num_epochs = 200\n",
    "    batch_size = 32\n",
    "\n",
    "    # Initialize an empty list to store fold-wise performance\n",
    "    fold_accuracies = []\n",
    "\n",
    "    # Initialize a new model for each fold\n",
    "    # model = ResNetRegression(in_channel)\n",
    "    model = ResNetFeatures(in_channel, 512)\n",
    "    model2 = NNRegression(512)\n",
    "    # model = EncoderCNN(in_channel, 1)\n",
    "\n",
    "    device = torch.device(\"cuda\" if torch.cuda.is_available() else \"cpu\")\n",
    "    print(device)\n",
    "    model.to(device)\n",
    "    model2.to(device)\n",
    "\n",
    "\n",
    "    criterion = torch.nn.MSELoss()  # Mean Squared Error loss function\n",
    "    # optimizer = optim.Adam(list(conv.parameters()) + list(deconv.parameters()), lr=0.001)  # Adam optimizer\n",
    "    optimizer = optim.Adam(model.parameters(), lr=0.001)  # Adam optimizer\n",
    "\n",
    "    # optimizer.zero_grad()\n",
    "    model = train_with_cross_validation(model, train_val_dataset, batch_size, num_epochs, optimizer, criterion, dual_model=True, model2=model2)\n",
    "\n",
    "    if is_save_model:\n",
    "        model_name = \"path/model_\" + model.__class__.__name__+ doy_name +\"_Batch=\" +str(batch_size) + \"_state_dual.pth\"\n",
    "        torch.save(model.state_dict(), model_name)\n",
    "\n",
    "    test_accuracy, test_prediction = validate_dual_models(model, model2, test_dataset, criterion, batch_size = batch_size, is_return_output = True)\n",
    "\n",
    "    print(f'validation mse is {np.sqrt(np.mean(test_accuracy))}')\n",
    "\n",
    "\n",
    "    name_tag = doy_name\n",
    "    out_name = name_tag + ' ' + 'Pioneer' + ' ' \n",
    "    out_name = out_name + keyword[:-11] \n",
    "    out_name = out_name + ' CNN '\n",
    "\n",
    "    yield_data = np.array(pioneer_yield_list)\n",
    "    irrigate_data = np.array(irrigate_type_list)\n",
    "\n",
    "    test_truth = yield_data[test_indices]\n",
    "    plot_result_separate(np.array(test_truth), np.array(test_prediction), test_indices, irrigate_data, out_name)\n"
   ]
  },
  {
   "cell_type": "code",
   "execution_count": null,
   "metadata": {},
   "outputs": [],
   "source": [
    "model2 = ResNetRegression(5,1)\n",
    "print(model2)"
   ]
  },
  {
   "cell_type": "code",
   "execution_count": null,
   "metadata": {},
   "outputs": [],
   "source": []
  }
 ],
 "metadata": {
  "kernelspec": {
   "display_name": "pytorch",
   "language": "python",
   "name": "python3"
  },
  "language_info": {
   "codemirror_mode": {
    "name": "ipython",
    "version": 3
   },
   "file_extension": ".py",
   "mimetype": "text/x-python",
   "name": "python",
   "nbconvert_exporter": "python",
   "pygments_lexer": "ipython3",
   "version": "3.9.7"
  }
 },
 "nbformat": 4,
 "nbformat_minor": 2
}
